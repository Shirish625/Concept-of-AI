{
  "nbformat": 4,
  "nbformat_minor": 0,
  "metadata": {
    "colab": {
      "provenance": []
    },
    "kernelspec": {
      "name": "python3",
      "display_name": "Python 3"
    },
    "language_info": {
      "name": "python"
    }
  },
  "cells": [
    {
      "cell_type": "markdown",
      "source": [
        "Task 1. Classify Temperatures:"
      ],
      "metadata": {
        "id": "OFfGsqeVsEoW"
      }
    },
    {
      "cell_type": "markdown",
      "source": [
        "1. Create empty lists for temperature classifications:\n",
        "\n",
        "  (a) Cold: temperatures below 10°C.\n",
        "\n",
        "  (b) Mild: temperatures between 10°C and 15°C.\n",
        "\n",
        "  (c) Comfortable: temperatures between 15°C and 20°C.\n",
        "\n",
        "2. Iterate over the temperatures list and add each temperature to the appropriate cate-\n",
        "gory.\n",
        "\n",
        "3. Print the lists to verify the classifications."
      ],
      "metadata": {
        "id": "gFc7VGzftaTm"
      }
    },
    {
      "cell_type": "code",
      "source": [
        "#Empty list for temperatures\n",
        "cold = []\n",
        "mild = []\n",
        "comf =[]\n",
        "\n",
        "temperatures = [8.2, 17.4, 14.1, 7.9, 18.0, 13.5, 9.0, 17.8, 13.0, 8.5,\n",
        "16.5, 12.9, 7.7, 17.2, 13.3, 8.4, 16.7, 14.0, 9.5, 18.3, 13.4, 8.1,\n",
        "17.9, 14.2, 7.6, 17.0, 12.8, 8.0, 16.8, 13.7, 7.8, 17.5, 13.6, 8.7,\n",
        "17.1, 13.8, 9.2, 18.1, 13.9, 8.3, 16.4, 12.7, 8.9, 18.2, 13.1, 7.8,\n",
        "16.6, 12.5]\n",
        "\n",
        "#using for loop ,if else block and append method to iterate over temperature.\n",
        "for i in temperatures:\n",
        "    if(i<10):\n",
        "        cold.append(i)\n",
        "    elif(10<=i<15):\n",
        "        mild.append(i)\n",
        "    elif(15<=i<20):\n",
        "        comf.append(i)\n",
        "#print the list\n",
        "print(\"Cold Temperature: \\n\", cold)\n",
        "print(\"Mild Temperature: \\n\", mild)\n",
        "print(\"Comfortable Temperature: \\n\", comf)\n",
        "\n"
      ],
      "metadata": {
        "colab": {
          "base_uri": "https://localhost:8080/"
        },
        "id": "HYNhPubntjHO",
        "outputId": "5cbe6e11-ff15-4259-bce1-861dcf33f4a0"
      },
      "execution_count": 7,
      "outputs": [
        {
          "output_type": "stream",
          "name": "stdout",
          "text": [
            "Cold Temperature: \n",
            " [8.2, 7.9, 9.0, 8.5, 7.7, 8.4, 9.5, 8.1, 7.6, 8.0, 7.8, 8.7, 9.2, 8.3, 8.9, 7.8]\n",
            "Mild Temperature: \n",
            " [14.1, 13.5, 13.0, 12.9, 13.3, 14.0, 13.4, 14.2, 12.8, 13.7, 13.6, 13.8, 13.9, 12.7, 13.1, 12.5]\n",
            "Comfortable Temperature: \n",
            " [17.4, 18.0, 17.8, 16.5, 17.2, 16.7, 18.3, 17.9, 17.0, 16.8, 17.5, 17.1, 18.1, 16.4, 18.2, 16.6]\n"
          ]
        }
      ]
    },
    {
      "cell_type": "markdown",
      "source": [
        "Task 2. Based on Data - Answer all the Questions:"
      ],
      "metadata": {
        "id": "PWhu7Rbwvnze"
      }
    },
    {
      "cell_type": "markdown",
      "source": [
        "1. How many times was it mild?\n",
        "\n",
        "  (a) Hint: Count the number of items in the mild list and print the result.\n",
        "2. How many times was it comfortable?\n",
        "3. How many times was it cold?"
      ],
      "metadata": {
        "id": "Psroh1IvvuGX"
      }
    },
    {
      "cell_type": "code",
      "source": [
        "mild_times = len(mild)\n",
        "print(f\"Mild temp times \", mild_times)\n",
        "\n",
        "comf_times = len(comf)\n",
        "print(f\"Comfortable temp times \",comf_times)\n",
        "\n",
        "cold_times = len(cold)\n",
        "print(f\"COld temp times \",cold_times)"
      ],
      "metadata": {
        "colab": {
          "base_uri": "https://localhost:8080/"
        },
        "id": "NQfxxBv8vyym",
        "outputId": "70b94a1d-9da8-4d8b-a02b-b66907f0b244"
      },
      "execution_count": 8,
      "outputs": [
        {
          "output_type": "stream",
          "name": "stdout",
          "text": [
            "Mild temp times  16\n",
            "Comfortable temp times  16\n",
            "COld temp times  16\n"
          ]
        }
      ]
    },
    {
      "cell_type": "markdown",
      "source": [
        "Task 3. Convert Temperatures from Celsius to Fahrenheit"
      ],
      "metadata": {
        "id": "H6ghwvSJws_u"
      }
    },
    {
      "cell_type": "markdown",
      "source": [
        "1. Iterate over the temperatures list and apply the formula to convert each temperature.\n",
        "2. Store the results in the new list.\n",
        "3. Print the converted Fahrenheit values."
      ],
      "metadata": {
        "id": "WIOZZ6rrwuDT"
      }
    },
    {
      "cell_type": "code",
      "source": [
        "#Create empty list for fahreinheit\n",
        "f_temp = []\n",
        "\n",
        "for i in temperatures:\n",
        "  fahreinheit = float((i*9/5)+32)\n",
        "  x = f_temp.append(fahreinheit)\n",
        "print(f\"The temnperatures in fahreinheit are \",f_temp)"
      ],
      "metadata": {
        "colab": {
          "base_uri": "https://localhost:8080/"
        },
        "id": "X4d7RSOKwyvH",
        "outputId": "fa0bef01-9f6d-4939-84d9-1b50b95b36ff"
      },
      "execution_count": 9,
      "outputs": [
        {
          "output_type": "stream",
          "name": "stdout",
          "text": [
            "The temnperatures in fahreinheit are  [46.76, 63.32, 57.379999999999995, 46.22, 64.4, 56.3, 48.2, 64.04, 55.4, 47.3, 61.7, 55.22, 45.86, 62.959999999999994, 55.94, 47.120000000000005, 62.059999999999995, 57.2, 49.1, 64.94, 56.120000000000005, 46.58, 64.22, 57.56, 45.68, 62.6, 55.04, 46.4, 62.24, 56.66, 46.04, 63.5, 56.48, 47.66, 62.78, 56.84, 48.56, 64.58, 57.02, 46.94, 61.519999999999996, 54.86, 48.02, 64.75999999999999, 55.58, 46.04, 61.88, 54.5]\n"
          ]
        }
      ]
    },
    {
      "cell_type": "markdown",
      "source": [
        "Task 4. Analyze Temperature Patterns by Time of Day:"
      ],
      "metadata": {
        "id": "F_Q05EbJxr5N"
      }
    },
    {
      "cell_type": "markdown",
      "source": [
        "1. Create empty lists for night, day, and evening temperatures.\n",
        "2. Iterate over the temperatures list, assigning values to each time-of-day list based on\n",
        "their position.\n",
        "3. Calculate and print the average day-time temperature."
      ],
      "metadata": {
        "id": "6OyjQ0WS0CBE"
      }
    },
    {
      "cell_type": "code",
      "source": [
        "#create list for night,day,evening temp\n",
        "\n",
        "night_temp = []\n",
        "eve_temp = []\n",
        "day_temp = []\n",
        "\n",
        "for i in temperatures:\n",
        "  if(0<=i<=8):\n",
        "    night_temp.append(i)\n",
        "  elif(8<i<=16):\n",
        "    eve_temp.append(i)\n",
        "  elif(16<i<=24):\n",
        "    day_temp.append(i)\n",
        "\n",
        "avgDay_temp = sum(day_temp) / len(day_temp)\n",
        "print(f\"The average temperature for the day is \",avgDay_temp)"
      ],
      "metadata": {
        "colab": {
          "base_uri": "https://localhost:8080/"
        },
        "id": "2OSu5jJm0HI6",
        "outputId": "aa93c67a-5091-49f3-cc1e-85f75e5eecd0"
      },
      "execution_count": 10,
      "outputs": [
        {
          "output_type": "stream",
          "name": "stdout",
          "text": [
            "The average temperature for the day is  17.343750000000004\n"
          ]
        }
      ]
    },
    {
      "cell_type": "markdown",
      "source": [
        "8.1.1 Exercise - Recursion:\n",
        "Task 1 - Sum of Nested Lists:\n",
        "\n"
      ],
      "metadata": {
        "id": "s-edjdFn1vAU"
      }
    },
    {
      "cell_type": "markdown",
      "source": [
        "Scenario: You have a list that contains numbers and other lists of numbers (nested lists).\n",
        "You want to find the total sum of all the numbers in this structure.\n",
        "\n",
        "Task:\n",
        "\n",
        "• Write a recursive function sum_nested_list(nested_list) that:\n",
        "1. Takes a nested list (a list that can contain numbers or other lists of numbers) as\n",
        "input.\n",
        "\n",
        "2. Sums all numbers at every depth level of the list, regardless of how deeply nested\n",
        "the numbers are.\n",
        "• Test the function with a sample nested list, such as\n",
        "nested_list = [1, [2, [3, 4], 5], 6, [7, 8]].\n",
        "The result should be the total sum of all the numbers."
      ],
      "metadata": {
        "id": "-Phar7Vw16f8"
      }
    },
    {
      "cell_type": "code",
      "source": [
        "def sum_nested_list(nested_list):\n",
        "  \"\"\"\n",
        "    Calculate the sum of all numbers in a nested list.\n",
        "    This function takes a list that may contain integers and other nested lists.\n",
        "    It recursively traverses the list and sums all the integers, no matter how deeply\n",
        "    nested they are.\n",
        "\n",
        "    Args:\n",
        "    nested_list (list): A list that may contain integers or other lists of integers.\n",
        "\n",
        "    Returns:\n",
        "        int: The total sum of all integers in the nested list, including those in sublists.\n",
        "\n",
        "  \"\"\"\n",
        "  total = 0\n",
        "  for element in nested_list:\n",
        "    if isinstance(element, list): # Check if the element is a list\n",
        "     total += sum_nested_list(element) # Recursively sum the nested list\n",
        "    else:\n",
        "      total += element # Add the number to the total\n",
        "  return total\n",
        "sum_nested_list([1,[2,[3,4],5],6,[7,8]])"
      ],
      "metadata": {
        "colab": {
          "base_uri": "https://localhost:8080/"
        },
        "id": "WH8PT11Y2LK4",
        "outputId": "8bb679a4-f6d8-484f-db83-daf3e026f46b"
      },
      "execution_count": 12,
      "outputs": [
        {
          "output_type": "execute_result",
          "data": {
            "text/plain": [
              "36"
            ]
          },
          "metadata": {},
          "execution_count": 12
        }
      ]
    },
    {
      "cell_type": "markdown",
      "source": [
        "Task 2 - Generate All Permutations of a String:"
      ],
      "metadata": {
        "id": "zDnTCyM43wpB"
      }
    },
    {
      "cell_type": "markdown",
      "source": [
        "Scenario: Given a string, generate all possible permutations of its characters. This is useful\n",
        "for understanding backtracking and recursive depth-first search.\n",
        "\n",
        "Task:\n",
        "\n",
        "• Write a recursive function generate_permutations(s) that:\n",
        "\n",
        "– Takes a string s as input and returns a list of all unique permutations.\n",
        "\n",
        "• Test with strings like ”abc” and ”aab”.\n",
        "\n",
        "print(generate_permutations(\"abc\"))\n",
        "\n",
        "Should return [’abc’, ’acb’, ’bac’, ’bca’, ’cab’, ’cba’]"
      ],
      "metadata": {
        "id": "NKS8YosW3xQO"
      }
    },
    {
      "cell_type": "code",
      "source": [
        "def generate_permutations(s):\n",
        "  \"\"\"\n",
        "  Generate all unique permutations of a given string using recursion.\n",
        "\n",
        "  Args:\n",
        "    s(str) :contains  strings for which all the possible permutation is to be printed\n",
        "\n",
        "    returns:\n",
        "    list : contating all the possible permutation of the given string\n",
        "  \"\"\"\n",
        "  result = []\n",
        "\n",
        "  #return the string if it has only 1 permutation.\n",
        "  if len(s) == 1:\n",
        "    return [s]\n",
        "\n",
        "  #using loop to iterate through each string.\n",
        "  for i in range(len(s)):\n",
        "      remaining = s[:i] + s[i+1:]\n",
        "\n",
        "      for char in generate_permutations(remaining):\n",
        "          result.append(s[i] + char)\n",
        "  return result\n",
        "\n",
        "test1 = \"abc\"\n",
        "test2 = \"aab\"\n",
        "\n",
        "print(generate_permutations(test1))\n",
        "print(generate_permutations(test2))\n"
      ],
      "metadata": {
        "colab": {
          "base_uri": "https://localhost:8080/"
        },
        "id": "NxvS9Rv437-C",
        "outputId": "8986b281-8f24-4b4e-9996-c9a85b4a455f"
      },
      "execution_count": 3,
      "outputs": [
        {
          "output_type": "stream",
          "name": "stdout",
          "text": [
            "['abc', 'acb', 'bac', 'bca', 'cab', 'cba']\n",
            "['aab', 'aba', 'aab', 'aba', 'baa', 'baa']\n"
          ]
        }
      ]
    },
    {
      "cell_type": "markdown",
      "source": [
        "Task 3 - Directory Size Calculation:"
      ],
      "metadata": {
        "id": "81GC4oiE7eGl"
      }
    },
    {
      "cell_type": "markdown",
      "source": [
        "1. Write a recursive function calculate_directory_size(directory) where:\n",
        "\n",
        "  • directory is a dictionary where keys represent file names (with values as sizes in\n",
        "\n",
        "  KB) or directory names (with values as another dictionary representing a subdi-\n",
        "rectory).\n",
        "  • The function should return the total size of the directory, including all nested\n",
        "  subdirectories.\n",
        "\n",
        "2. Test the function with a sample directory structure."
      ],
      "metadata": {
        "id": "qn5SeY6b7gZY"
      }
    },
    {
      "cell_type": "code",
      "source": [
        "def directory_size(directory):\n",
        "\n",
        "  total = 0\n",
        "\n",
        "  for key,value in directory.items():\n",
        "    if isinstance(value,dict):\n",
        "      total = total + directory_size(value)\n",
        "    else:\n",
        "      total = total + value\n",
        "  return total\n",
        "\n",
        "  # Sample directory structure\n",
        "directory_structure = {\n",
        "    \"file1.txt\": 200,\n",
        "    \"file2.txt\": 300,\n",
        "    \"subdir1\": {\n",
        "        \"file3.txt\": 400,\n",
        "        \"file4.txt\": 100\n",
        "    },\n",
        "    \"subdir2\": {\n",
        "        \"subsubdir1\": {\n",
        "            \"file5.txt\": 250\n",
        "        },\n",
        "        \"file6.txt\": 150\n",
        "    }\n",
        "}\n",
        "\n",
        "print(directory_size(directory_structure))"
      ],
      "metadata": {
        "colab": {
          "base_uri": "https://localhost:8080/"
        },
        "id": "7eAcuXwF70tx",
        "outputId": "c47fb64a-ac04-4cc1-aaec-82f17b2a8cba"
      },
      "execution_count": 5,
      "outputs": [
        {
          "output_type": "stream",
          "name": "stdout",
          "text": [
            "1400\n"
          ]
        }
      ]
    },
    {
      "cell_type": "markdown",
      "source": [
        "Task 1 - Coin Change Problem:"
      ],
      "metadata": {
        "id": "q720wJ3q_nkB"
      }
    },
    {
      "cell_type": "markdown",
      "source": [
        "1. Write a function min_coins(coins, amount) that:\n",
        "\n",
        "  • Uses DP to calculate the minimum number of coins needed to make up the\n",
        "amount.\n",
        "\n",
        "2. Test with coins = [1, 2, 5] and amount = 11. The result should be 3 (using coins\n",
        "[5, 5, 1])."
      ],
      "metadata": {
        "id": "k7H_agJI_qHD"
      }
    },
    {
      "cell_type": "code",
      "source": [
        "def min_coins(coins, amount):\n",
        "    \"\"\"\n",
        "    Finds the minimum number of coins needed to make up a given amount using dynamic\n",
        "    programming.\n",
        "    This function solves the coin change problem by determining the fewest number of\n",
        "    coins from a given set of coin denominations that sum up to a target amount. The\n",
        "    solution uses dynamic programming (tabulation) to iteratively build up the minimum\n",
        "    number of coins required for each amount.\n",
        "\n",
        "    Parameters:\n",
        "    coins (list of int): A list of coin denominations available for making change. Each\n",
        "    coin denomination is a positive integer.\n",
        "    amount (int): The target amount for which we need to find the minimum number of coins.\n",
        "    It must be a non-negative integer.\n",
        "\n",
        "    Returns:\n",
        "    int: The minimum number of coins required to make the given amount.\n",
        "    If it is not possible to make the amount with the given coins, returns -1.\n",
        "    \"\"\"\n",
        "    dp = [float('inf')] * (amount + 1)\n",
        "    dp[0] = 0\n",
        "    for coin in coins:\n",
        "        for i in range(coin, amount + 1):\n",
        "            dp[i] = min(dp[i], dp[i - coin] + 1)\n",
        "    return dp[amount] if dp[amount] != float('inf') else -1\n",
        "\n",
        "coins = [1, 2, 5]\n",
        "amount = 11\n",
        "result = min_coins(coins, amount)\n",
        "print(\"The result is\", result)"
      ],
      "metadata": {
        "colab": {
          "base_uri": "https://localhost:8080/"
        },
        "id": "0Pd8yOBx-orl",
        "outputId": "a28b07e2-d549-4098-db9c-b2f9f1c42ca5"
      },
      "execution_count": 6,
      "outputs": [
        {
          "output_type": "stream",
          "name": "stdout",
          "text": [
            "The result is 3\n"
          ]
        }
      ]
    },
    {
      "cell_type": "markdown",
      "source": [
        "Task 2 - Longest Common Subsequence"
      ],
      "metadata": {
        "id": "vr-HWKUnABYP"
      }
    },
    {
      "cell_type": "markdown",
      "source": [
        "1. Write a function longest_common_subsequence(s1, s2) that:\n",
        "\n",
        "  • Uses DP to find the length of the LCS of two strings s1 and s2.\n",
        "\n",
        "2. Test with strings like \"abcde\" and \"ace\"; the LCS length should be 3 (\"ace\")."
      ],
      "metadata": {
        "id": "at3R9RFAAECC"
      }
    },
    {
      "cell_type": "code",
      "source": [
        "def longest_common_subsequence(s1, s2):\n",
        "  dp = [[0] * (len(s2) + 1) for _ in range(len(s1) + 1)]\n",
        "\n",
        "  for i in range(1, len(s1) + 1):\n",
        "        for j in range(1, len(s2) + 1):\n",
        "            if s1[i - 1] == s2[j - 1]:\n",
        "                dp[i][j] = 1 + dp[i - 1][j - 1]\n",
        "            else:\n",
        "                dp[i][j] = max(dp[i - 1][j], dp[i][j - 1])\n",
        "\n",
        "  return dp[len(s1)][len(s2)]\n",
        "\n",
        "test1 = \"abcde\"\n",
        "test2 = \"ace\"\n",
        "lcs_length = longest_common_subsequence(test1, test2)\n",
        "print(\"The LCS length is\",lcs_length)"
      ],
      "metadata": {
        "colab": {
          "base_uri": "https://localhost:8080/"
        },
        "id": "md3vFoUYAI0J",
        "outputId": "dc6c27d8-6db3-4168-cce9-c8875b8c221d"
      },
      "execution_count": 7,
      "outputs": [
        {
          "output_type": "stream",
          "name": "stdout",
          "text": [
            "The LCS length is 3\n"
          ]
        }
      ]
    },
    {
      "cell_type": "markdown",
      "source": [
        "Task 3 - 0/1 Knapsack Problem:"
      ],
      "metadata": {
        "id": "EuSnNd-nArBD"
      }
    },
    {
      "cell_type": "markdown",
      "source": [
        "1. Write a function knapsack(weights, values, capacity) that:\n",
        "\n",
        "  • Uses DP to determine the maximum value that can be achieved within the given\n",
        "weight capacity.\n",
        "\n",
        "2. Test with weights [1, 3, 4, 5], values [1, 4, 5, 7], and capacity 7. The re-\n",
        "sult should be 9."
      ],
      "metadata": {
        "id": "fmb4YglpAs4j"
      }
    },
    {
      "cell_type": "code",
      "source": [
        "def knapsack(weights, values, capacity):\n",
        "    n = len(weights)\n",
        "    dp = [[0] * (capacity + 1) for _ in range(n + 1)]\n",
        "\n",
        "    for i in range(1, n + 1):\n",
        "        for w in range(1, capacity + 1):\n",
        "            if weights[i - 1] <= w:\n",
        "                # Choose the maximum between including or excluding the current item\n",
        "                dp[i][w] = max(dp[i - 1][w], values[i - 1] + dp[i - 1][w - weights[i - 1]])\n",
        "            else:\n",
        "                # Exclude the current item\n",
        "                dp[i][w] = dp[i - 1][w]\n",
        "\n",
        "    return dp[n][capacity]  # Return the maximum value that can be achieved within the capacity\n",
        "\n",
        "weights = [1, 3, 4, 5]\n",
        "values = [1, 4, 5, 7]\n",
        "capacity = 7\n",
        "print(knapsack(weights, values, capacity))"
      ],
      "metadata": {
        "colab": {
          "base_uri": "https://localhost:8080/"
        },
        "id": "IhNtK7GBAxIb",
        "outputId": "f9f72fc0-98df-465e-b03e-4675451c254f"
      },
      "execution_count": 8,
      "outputs": [
        {
          "output_type": "stream",
          "name": "stdout",
          "text": [
            "9\n"
          ]
        }
      ]
    }
  ]
}